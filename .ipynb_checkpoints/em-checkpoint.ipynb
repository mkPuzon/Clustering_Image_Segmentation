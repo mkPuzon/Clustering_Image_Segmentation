{
 "cells": [
  {
   "cell_type": "markdown",
   "metadata": {},
   "source": [
    "**YOUR NAMES HERE**\n",
    "\n",
    "Spring 2024\n",
    "\n",
    "CS 252: Mathematical Data Analysis and Visualization\n",
    "\n",
    "Project 3: Clustering"
   ]
  },
  {
   "cell_type": "code",
   "execution_count": 2,
   "metadata": {},
   "outputs": [],
   "source": [
    "import numpy as np\n",
    "import matplotlib.pyplot as plt\n",
    "import em\n",
    "\n",
    "plt.style.use(['seaborn-v0_8-colorblind', 'seaborn-v0_8-darkgrid'])\n",
    "plt.rcParams.update({'font.size': 20})\n",
    "\n",
    "np.set_printoptions(suppress=True, precision=5)\n",
    "\n",
    "# Automatically reload external modules\n",
    "%load_ext autoreload\n",
    "%autoreload 2"
   ]
  },
  {
   "cell_type": "markdown",
   "metadata": {},
   "source": [
    "## Task 3: The EM Algorithm"
   ]
  },
  {
   "cell_type": "markdown",
   "metadata": {},
   "source": [
    "### 3a. Implement multivariate Gaussian (`gaussian`)\n",
    "\n",
    "Implement from scratch (i.e. using common numpy math functions and `np.linalg.det` and `np.linalg.inv`)."
   ]
  },
  {
   "cell_type": "code",
   "execution_count": 28,
   "metadata": {},
   "outputs": [
    {
     "name": "stdout",
     "output_type": "stream",
     "text": [
      "(2,)\n",
      "Your Gaussian PDF evaluated that the test points:\n",
      "[0.06237 0.02907 0.00424 0.08301 0.08269]\n",
      "It should be\n",
      "[0.06237 0.02907 0.00424 0.08301 0.08269]\n"
     ]
    }
   ],
   "source": [
    "# Test 1: 2D data\n",
    "np.random.seed(0)\n",
    "test_xy = np.random.randn(5,2)\n",
    "test_mu = np.random.uniform(size=(2,))\n",
    "test_sigma = np.array([[2, 1.5], [1.5, 2]])\n",
    "\n",
    "em_test = em.EM()\n",
    "gauss_pdf = em_test.gaussian(test_xy, test_mu, test_sigma)\n",
    "print(f'Your Gaussian PDF evaluated that the test points:\\n{gauss_pdf}\\nIt should be\\n[0.06237 0.02907 0.00424 0.08301 0.08269]')"
   ]
  },
  {
   "cell_type": "code",
   "execution_count": 29,
   "metadata": {},
   "outputs": [
    {
     "name": "stdout",
     "output_type": "stream",
     "text": [
      "(4,)\n",
      "Your Gaussian PDF evaluated that the test points:\n",
      "[0.      0.      0.      0.13288 0.     ]\n",
      "It should be\n",
      "[0.      0.      0.      0.13288 0.     ]\n"
     ]
    }
   ],
   "source": [
    "# Test 2: 4-dimensional data\n",
    "np.random.seed(0)\n",
    "test_10 = np.random.randn(5,4)\n",
    "test_mu = np.random.uniform(size=(4,))\n",
    "test_sigma = np.random.uniform(size=(4,4))\n",
    "test_sigma = test_sigma.T @ test_sigma\n",
    "\n",
    "em_test = em.EM()\n",
    "gauss_pdf = em_test.gaussian(test_10, test_mu, test_sigma)\n",
    "print(f'Your Gaussian PDF evaluated that the test points:\\n{gauss_pdf}\\nIt should be\\n[0.      0.      0.      0.13288 0.     ]')"
   ]
  },
  {
   "cell_type": "markdown",
   "metadata": {},
   "source": [
    "### 3b. Implement EM algorithm\n",
    "\n",
    "Implement each of the following core methods in `em.py`. \n",
    "\n",
    "- `initialize`: Initialize cluster means, variance, and the probability that data samples belong to each of the clusters.\n",
    "- `e_step`: Expectation step of EM algorithm. Compute probability each datapoint belongs to each cluster.\n",
    "- `m_step`: Maximization step of EM algorithm. Compute each Gaussian cluster's mean and covariance matrix based on data assigned to each cluster.\n",
    "- `log_likelihood`: Used in EM to monitor clustering progress and detect convergence. Log of sum of probabilities of all data points assigned to all clusters.\n",
    "- `cluster`: Method that runs EM algorithm.\n",
    "\n",
    "**E-Step equations:**\n",
    "\n",
    "Compute the *responsibilities* ($w_{ci}$): the probability that data sample $i$ belongs to cluster $c$.\n",
    "\n",
    "It can be computed in two stages: Determine $\\hat{w}_{ci}$ then ${w}_{ci}$. $$\\hat{w}_{ci} = \\pi_c \\times G\\left (\\mathbf{data}, \\vec{\\mu}_c, \\mathbf{\\Sigma_c}  \\right )$$ Above, $\\pi_c$ is the proportion of data samples that are associated with cluster $c$ (more on this below), $G(\\cdot,\\cdot,\\cdot)$ is a multivariate Gaussian (representing cluster $c$), $\\vec{\\mu}_c$ is the mean (*centroid*) of that Gaussian cluster $c$, and $\\mathbf{\\Sigma_c}$ is the covariance matrix for cluster $c$.$${w}_{ci} = \\frac{\\hat{w}_{ci}}{\\sum_{d=1}^{k}\\hat{w}_{di}}$$\n",
    "\n",
    "\n",
    "**M-Step equations:**\n",
    "\n",
    "The job of the M-step is to compute the Gaussian cluster centroids ($\\vec{\\mu}_c$), Gaussian cluster covariance matrices ($\\mathbf{\\Sigma}_c$), and proportion of data samples that are associated each cluster ($\\pi_c$).\n",
    "\n",
    "$\\pi_c$ is the average responsibility of all data samples with respect to each cluster $c$: $$\\pi_c = \\frac{1}{N}\\sum_{j=1}^N w_{cj}$$\n",
    "Note that above $N$ is the number of data samples. $$\\vec{\\mu}_c = \\frac{1}{R_c} \\sum_{j=1}^N w_{cj} \\times \\vec{\\text{data}}_j $$\n",
    "Above $R_c$ is defined as the sum of the responsibilities of all data samples belonging to one cluster: $R_c = \\sum_{j=1}^N {w}_{cj}$.\n",
    "\n",
    "Finally, the covariance of each cluster $\\mathbf{\\Sigma}_c$ is computed as: $$\\mathbf{\\Sigma}_c = \\frac{1}{R_c} \\sum_{j=1}^N w_{cj} \\left ( \\vec{\\text{data}}_j - \\vec{\\mu}_c \\right )^T \\left ( \\vec{\\text{data}}_j - \\vec{\\mu}_c \\right ) $$\n",
    "where above $T$ indicates transpose.\n",
    "\n",
    "**Log-likelihood:**\n",
    "\n",
    "$$ll = \\sum_{i=1}^N Log \\left [\\sum_{c=1}^k \\pi_c f_c \\left ( \\vec{x}_i; \\vec{\\mu}_c, \\Sigma_c \\right ) \\right]$$\n",
    "\n",
    "where $f_c(\\cdot)$ is the Gaussian distribution."
   ]
  },
  {
   "cell_type": "markdown",
   "metadata": {},
   "source": [
    "#### Test `e_step` (and `initialize`)"
   ]
  },
  {
   "cell_type": "code",
   "execution_count": 33,
   "metadata": {},
   "outputs": [
    {
     "name": "stdout",
     "output_type": "stream",
     "text": [
      "Your centroid shapes are (2, 2) and should be (2, 2)\n",
      "\n",
      "[[1.76405 0.40016]\n",
      " [0.97874 2.24089]]\n"
     ]
    },
    {
     "ename": "ValueError",
     "evalue": "setting an array element with a sequence.",
     "output_type": "error",
     "traceback": [
      "\u001b[1;31m---------------------------------------------------------------------------\u001b[0m",
      "\u001b[1;31mTypeError\u001b[0m                                 Traceback (most recent call last)",
      "\u001b[1;31mTypeError\u001b[0m: only size-1 arrays can be converted to Python scalars",
      "\nThe above exception was the direct cause of the following exception:\n",
      "\u001b[1;31mValueError\u001b[0m                                Traceback (most recent call last)",
      "Cell \u001b[1;32mIn[33], line 14\u001b[0m\n\u001b[0;32m     12\u001b[0m test_init_centroids \u001b[38;5;241m=\u001b[39m np\u001b[38;5;241m.\u001b[39marray([[\u001b[38;5;241m1.76405\u001b[39m, \u001b[38;5;241m0.40016\u001b[39m], [\u001b[38;5;241m0.97874\u001b[39m, \u001b[38;5;241m2.24089\u001b[39m]])\n\u001b[0;32m     13\u001b[0m em_test\u001b[38;5;241m.\u001b[39mcentroids \u001b[38;5;241m=\u001b[39m test_init_centroids\n\u001b[1;32m---> 14\u001b[0m test_probs \u001b[38;5;241m=\u001b[39m \u001b[43mem_test\u001b[49m\u001b[38;5;241;43m.\u001b[39;49m\u001b[43me_step\u001b[49m\u001b[43m(\u001b[49m\u001b[43m)\u001b[49m\n\u001b[0;32m     15\u001b[0m \u001b[38;5;28mprint\u001b[39m(\u001b[38;5;124mf\u001b[39m\u001b[38;5;124m'\u001b[39m\u001b[38;5;124mAfter 1 E step, your test responsibilities are:\u001b[39m\u001b[38;5;130;01m\\n\u001b[39;00m\u001b[38;5;132;01m{\u001b[39;00mtest_probs\u001b[38;5;132;01m}\u001b[39;00m\u001b[38;5;130;01m\\n\u001b[39;00m\u001b[38;5;124mand should be:\u001b[39m\u001b[38;5;130;01m\\n\u001b[39;00m\u001b[38;5;124m[[0.88106 0.11894 0.99024 0.91517 0.62642]\u001b[39m\u001b[38;5;130;01m\\n\u001b[39;00m\u001b[38;5;130;01m\\\u001b[39;00m\n\u001b[0;32m     16\u001b[0m \u001b[38;5;124m [0.11894 0.88106 0.00976 0.08483 0.37358]]\u001b[39m\u001b[38;5;124m'\u001b[39m)\n",
      "File \u001b[1;32m~\\Dropbox\\CS252\\Project3\\em.py:131\u001b[0m, in \u001b[0;36mEM.e_step\u001b[1;34m(self)\u001b[0m\n\u001b[0;32m    129\u001b[0m \u001b[38;5;28mprint\u001b[39m(\u001b[38;5;28mself\u001b[39m\u001b[38;5;241m.\u001b[39mcentroids)\n\u001b[0;32m    130\u001b[0m \u001b[38;5;28;01mfor\u001b[39;00m i \u001b[38;5;129;01min\u001b[39;00m \u001b[38;5;28mrange\u001b[39m(\u001b[38;5;28mself\u001b[39m\u001b[38;5;241m.\u001b[39mdata\u001b[38;5;241m.\u001b[39mshape[\u001b[38;5;241m0\u001b[39m]): \u001b[38;5;66;03m# for each sample\u001b[39;00m\n\u001b[1;32m--> 131\u001b[0m     probs \u001b[38;5;241m=\u001b[39m \u001b[38;5;28;43mself\u001b[39;49m\u001b[38;5;241;43m.\u001b[39;49m\u001b[43mgaussian\u001b[49m\u001b[43m(\u001b[49m\u001b[38;5;28;43mself\u001b[39;49m\u001b[38;5;241;43m.\u001b[39;49m\u001b[43mdata\u001b[49m\u001b[43m,\u001b[49m\u001b[43m \u001b[49m\u001b[38;5;28;43mself\u001b[39;49m\u001b[38;5;241;43m.\u001b[39;49m\u001b[43mcentroids\u001b[49m\u001b[43m,\u001b[49m\u001b[43m \u001b[49m\u001b[38;5;28;43mself\u001b[39;49m\u001b[38;5;241;43m.\u001b[39;49m\u001b[43mcov_mats\u001b[49m\u001b[43m[\u001b[49m\u001b[43mi\u001b[49m\u001b[43m]\u001b[49m\u001b[43m)\u001b[49m\n\u001b[0;32m    132\u001b[0m     \u001b[38;5;28mprint\u001b[39m(\u001b[38;5;124mf\u001b[39m\u001b[38;5;124m'\u001b[39m\u001b[38;5;124mprobs: \u001b[39m\u001b[38;5;132;01m{\u001b[39;00mprobs\u001b[38;5;241m.\u001b[39mshape\u001b[38;5;132;01m}\u001b[39;00m\u001b[38;5;130;01m\\n\u001b[39;00m\u001b[38;5;132;01m{\u001b[39;00mprobs\u001b[38;5;132;01m}\u001b[39;00m\u001b[38;5;124m'\u001b[39m)\n\u001b[0;32m    134\u001b[0m \u001b[38;5;66;03m# for row in range(self.responsibilities.shape[0]):\u001b[39;00m\n\u001b[0;32m    135\u001b[0m \u001b[38;5;66;03m#     for col in range(self.responsibilities.shape[1]):\u001b[39;00m\n\u001b[0;32m    136\u001b[0m \u001b[38;5;66;03m#         pi_c = self.pi[row]\u001b[39;00m\n\u001b[0;32m    137\u001b[0m \u001b[38;5;66;03m#         self.responsibilities[row, col] = self.gaussian()\u001b[39;00m\n",
      "File \u001b[1;32m~\\Dropbox\\CS252\\Project3\\em.py:69\u001b[0m, in \u001b[0;36mEM.gaussian\u001b[1;34m(self, pts, mean, sigma)\u001b[0m\n\u001b[0;32m     67\u001b[0m     t2 \u001b[38;5;241m=\u001b[39m np\u001b[38;5;241m.\u001b[39me\u001b[38;5;241m*\u001b[39m\u001b[38;5;241m*\u001b[39m( \u001b[38;5;241m-\u001b[39m\u001b[38;5;241m1\u001b[39m\u001b[38;5;241m/\u001b[39m\u001b[38;5;241m2\u001b[39m \u001b[38;5;241m*\u001b[39m matrices )\n\u001b[0;32m     68\u001b[0m     \u001b[38;5;66;03m# print(f't1: {t1}\\nt2: {t2}')\u001b[39;00m\n\u001b[1;32m---> 69\u001b[0m     \u001b[43mmvg\u001b[49m\u001b[43m[\u001b[49m\u001b[43mi\u001b[49m\u001b[43m]\u001b[49m \u001b[38;5;241m=\u001b[39m t1 \u001b[38;5;241m*\u001b[39m t2\n\u001b[0;32m     71\u001b[0m \u001b[38;5;28;01mreturn\u001b[39;00m mvg\n",
      "\u001b[1;31mValueError\u001b[0m: setting an array element with a sequence."
     ]
    }
   ],
   "source": [
    "np.random.seed(0)\n",
    "\n",
    "test_k = 2\n",
    "test_data = np.random.randn(5,2)\n",
    "\n",
    "em_test = em.EM(test_data)\n",
    "em_test.k = test_k\n",
    "\n",
    "em_test.initalize(test_k)\n",
    "print(f'Your centroid shapes are {em_test.centroids.shape} and should be (2, 2)\\n')\n",
    "\n",
    "test_init_centroids = np.array([[1.76405, 0.40016], [0.97874, 2.24089]])\n",
    "em_test.centroids = test_init_centroids\n",
    "test_probs = em_test.e_step()\n",
    "print(f'After 1 E step, your test responsibilities are:\\n{test_probs}\\nand should be:\\n[[0.88106 0.11894 0.99024 0.91517 0.62642]\\n\\\n",
    " [0.11894 0.88106 0.00976 0.08483 0.37358]]')"
   ]
  },
  {
   "cell_type": "markdown",
   "metadata": {},
   "source": [
    "#### Test `m_step`"
   ]
  },
  {
   "cell_type": "code",
   "execution_count": null,
   "metadata": {},
   "outputs": [],
   "source": [
    "test_m, test_s, test_pi = em_test.m_step()\n",
    "\n",
    "print(f'After 1 EM iteration, your means are\\n{test_m}\\n')\n",
    "print(f'After 1 EM iteration, your covariance matrix is\\n{test_s}\\n')\n",
    "print(f'After 1 EM iteration, your pi array is\\n{test_pi}\\n')"
   ]
  },
  {
   "cell_type": "markdown",
   "metadata": {},
   "source": [
    "The above test should output:\n",
    "\n",
    "    After 1 EM iteration, your means are\n",
    "    [[ 1.22452 -0.06511]\n",
    "     [ 0.77131  1.46643]]\n",
    "\n",
    "    After 1 EM iteration, your covariance matrix is\n",
    "    [[[ 0.52278 -0.22681]\n",
    "      [-0.22681  0.50843]]\n",
    "\n",
    "     [[ 0.3101   0.21107]\n",
    "      [ 0.21107  0.92664]]]\n",
    "\n",
    "    After 1 EM iteration, your pi array is\n",
    "    [0.70637 0.29363]"
   ]
  },
  {
   "cell_type": "markdown",
   "metadata": {},
   "source": [
    "#### Test `log_likelihood`"
   ]
  },
  {
   "cell_type": "code",
   "execution_count": null,
   "metadata": {},
   "outputs": [],
   "source": [
    "print(f'After running 1 EM iteration (above test code), your likelihood is\\n{em_test.log_likelihood()}\\nand it should be\\n-11.394389039914211')"
   ]
  },
  {
   "attachments": {},
   "cell_type": "markdown",
   "metadata": {},
   "source": [
    "#### Test `cluster`\n",
    "\n",
    "Use `np.genfromtxt` or `np.loadtxt` to load in the `super_simple` dataset. Assign it to the variable `super_simple` then run the following test code to create a plot of your Gaussian clusters. It should look like the following image."
   ]
  },
  {
   "attachments": {
    "0b338f55-1789-47ff-85c7-1e39289e2e02.png": {
     "image/png": "[encoded data removed]"
    }
   },
   "cell_type": "markdown",
   "metadata": {},
   "source": [
    "![output.png](attachment:0b338f55-1789-47ff-85c7-1e39289e2e02.png)"
   ]
  },
  {
   "cell_type": "code",
   "execution_count": null,
   "metadata": {},
   "outputs": [],
   "source": [
    "# LOAD IN DATASET HERE\n",
    "\n",
    "simple_k = 3\n",
    "simple_max_iter = 100\n",
    "\n",
    "np.random.seed(0)\n",
    "simple_test = em.EM(super_simple)\n",
    "\n",
    "simple_test.cluster(k=simple_k, max_iter=simple_max_iter, verbose=True)\n",
    "simple_test.plot_clusters(super_simple)"
   ]
  },
  {
   "attachments": {},
   "cell_type": "markdown",
   "metadata": {},
   "source": [
    "### 3c. EM algorithm animation visualization\n",
    "\n",
    "- Add an optional parameter to `EM::cluster` called `animate`. By default, make it set to False.\n",
    "- In the main EM loop, after performing a full iteration of EM, call the `plot_clusters` method (if `animate` is true). Immediately before your method call, add the code: `clear_output(wait=True)`. Immediately after, add the code: `plt.pause(0.1)` (The parameter, 0.1 in this case, is the wait time in seconds between plot updates in the animation).\n",
    "\n",
    "Running this test code, should produce a (**very cool**) animation showing the EM algorithm unfolding over time. You should see if overcome a challenging initial condition."
   ]
  },
  {
   "cell_type": "code",
   "execution_count": null,
   "metadata": {},
   "outputs": [],
   "source": [
    "np.random.seed(4)\n",
    "\n",
    "simple_k = 3\n",
    "simple_max_iter = 100\n",
    "\n",
    "simple_test = em.EM(super_simple)\n",
    "simple_test.cluster(k=simple_k, max_iter=simple_max_iter, verbose=False, animate=True);"
   ]
  },
  {
   "cell_type": "markdown",
   "metadata": {},
   "source": [
    "### 3d. Outlier detection with EM algorithm\n",
    "\n",
    "Because the EM algorithm computes the probability that each data sample belongs to each cluster, it can be used to detect outliers in the dataset.\n",
    "\n",
    "- Implement `find_outliers` in `em.py`.\n",
    "- Run the following code to find outliers in the `super_simple` dataset (defined as samples belonging to a cluster that have probability < 0.5 here)."
   ]
  },
  {
   "cell_type": "code",
   "execution_count": null,
   "metadata": {},
   "outputs": [],
   "source": [
    "# Find outliers in all 3 clusters\n",
    "outliers = simple_test.find_outliers(thres=0.5)\n",
    "print(f'Sample indices of your outliers are\\n{outliers}\\nand they should be\\n[(array([20, 26]),), (array([], dtype=int64),), (array([ 0, 18, 28]),)]')"
   ]
  },
  {
   "attachments": {},
   "cell_type": "markdown",
   "metadata": {},
   "source": [
    "- In the cell below, superimpose a plot on the cluster plot, indicating the outliers that you found with star markers (make them large so that they stand out)."
   ]
  },
  {
   "cell_type": "code",
   "execution_count": null,
   "metadata": {},
   "outputs": [],
   "source": [
    "simple_test.plot_clusters(super_simple, show=False)\n",
    "\n",
    "# Your code here\n"
   ]
  },
  {
   "cell_type": "markdown",
   "metadata": {},
   "source": [
    "## Task 4: Cluster a dataset of your choice with EM algorithm\n",
    "\n",
    "- Select a 2D dataset (one we've worked with before or a new one of your choice).\n",
    "    - You may select a higher dimensional dataset, but only run EM on 2 variables **that make sense (see next item)**\n",
    "    <!-- - You may select a higher dimensional dataset and run PCA to reduce the dimensionality to 2D. -->\n",
    "- Formulate a question (see question below) that could be addressed by cluster analysis.\n",
    "- Import/preprocess to prepare the data for clustering by the EM algorithm.\n",
    "- Analyze the data. Minimally, this should include:\n",
    "    - Select a k that makes sense to you (you may explore this more rigorously as an extension).\n",
    "    - Plot of the 2D data clustered.\n",
    "    - Detect and show outliers\n",
    "    - Report the final log likelihood of the clustering."
   ]
  },
  {
   "cell_type": "markdown",
   "metadata": {},
   "source": [
    "**Question 6:** What dataset did you select for clustering?"
   ]
  },
  {
   "cell_type": "markdown",
   "metadata": {},
   "source": [
    "**Answer 6:**"
   ]
  },
  {
   "cell_type": "markdown",
   "metadata": {},
   "source": [
    "**Question 7:** Which two variables did you select for clustering? What question are you exploring, which you believe could be addressed by a cluster analysis?"
   ]
  },
  {
   "cell_type": "markdown",
   "metadata": {},
   "source": [
    "**Answer 7:**"
   ]
  },
  {
   "cell_type": "markdown",
   "metadata": {},
   "source": [
    "**Question 8:** What is your interpretation of what the outliers that you detected mean in the context of your dataset?"
   ]
  },
  {
   "cell_type": "markdown",
   "metadata": {},
   "source": [
    "**Answer:**"
   ]
  },
  {
   "cell_type": "markdown",
   "metadata": {},
   "source": [
    "## Extensions\n",
    "\n",
    "### a. Reminder: AI Policy\n",
    "\n",
    "The goal of extensions is to learn and create something new beyond the base project that excites you. To serve this goal and out of fairness to your hardworking classmates, **AI (e.g. ChatGPT, Copilot, etc.) should NOT be used in ANY way on this project and extensions.** This includes both written analysis, plotting, and code. We will only grade **your** work, not an AI's. **We will stop grading your project if we notice AI-generated content (to any capacity).**\n",
    "\n",
    "### b. Guidelines\n",
    "\n",
    "To receive credit for any extension, you must:\n",
    "1. Not modify / prevent any code from the core project from working (e.g. make a copy before changing). In other words, **the notebook test code should still work!**\n",
    "2. **You must describe what you did and what you found in detail**. This includes a summary of parameter values used in your simulations.\n",
    "3. Include (*labeled!*) plots and/or numbers to present your results.\n",
    "4. Write up your extensions below or in a separate notebook.\n",
    "5. Give kudos to all sources, including anyone that you consulted.\n",
    "\n",
    "### c. Suggestions\n",
    "\n",
    "**Rule of thumb: one deep, thorough extension is worth more than several quick, shallow extensions!**\n",
    "\n",
    "The ideas below are **suggested** extensions — feel free to go in another direction related to this project that is not listed!"
   ]
  },
  {
   "cell_type": "markdown",
   "metadata": {},
   "source": [
    "### 1) Image compression\n",
    "\n",
    "- Run K-means on other images and quantify the reduction in space (i.e. compression ratio) required to store each image (with different values of k)."
   ]
  },
  {
   "cell_type": "markdown",
   "metadata": {},
   "source": [
    "### 2) Detect number of clusters in other datasets\n",
    "\n",
    "- Cluster other datasets and create elbow plots to detect the number of clusters."
   ]
  },
  {
   "cell_type": "markdown",
   "metadata": {},
   "source": [
    "### 3) Cluster additional datasets"
   ]
  },
  {
   "cell_type": "markdown",
   "metadata": {},
   "source": [
    "### 4) Other cluster detection metrics\n",
    "\n",
    "- Research number-of-clusters detection metrics (e.g. silhouette score) and compare them to inertia on a dataset of your choice. Which does a better job at detecting number of clusters?\n",
    "\n",
    "*Reminder that you need to cite your sources — i.e. how did you learn about other cluster detection metrics?*"
   ]
  },
  {
   "cell_type": "markdown",
   "metadata": {},
   "source": [
    "### 5) Animate the clustering process\n",
    "\n",
    "- Make an animation showing K-means clustering unfolding across iterations until the algorithm converges. "
   ]
  },
  {
   "cell_type": "markdown",
   "metadata": {},
   "source": [
    "### 6) K-means++\n",
    "\n",
    "- Research and implement the K-means++ algorithm for initializing the centroids in K-means.\n",
    "\n",
    "*Reminder that you need to cite your sources — i.e. how did you learn about K-means++?*"
   ]
  },
  {
   "cell_type": "markdown",
   "metadata": {},
   "source": [
    "### 7) Make an `elbow_plot` for EM algorithm\n",
    "\n",
    "- Test out and explain results of your `elbow_plot` method on a dataset.\n",
    "\n",
    "NOTE: Log likelihood is negative and higher is better. Factor this into your interpretation."
   ]
  },
  {
   "cell_type": "markdown",
   "metadata": {},
   "source": [
    "### 8) K-means vs. EM algorithm\n",
    "\n",
    "- Compare the efficiency of K-means and EM. Create plots showing runtime, number of iterations, etc. Analyze / interpret the results."
   ]
  }
 ],
 "metadata": {
  "kernelspec": {
   "display_name": "Python 3 (ipykernel)",
   "language": "python",
   "name": "python3"
  },
  "language_info": {
   "codemirror_mode": {
    "name": "ipython",
    "version": 3
   },
   "file_extension": ".py",
   "mimetype": "text/x-python",
   "name": "python",
   "nbconvert_exporter": "python",
   "pygments_lexer": "ipython3",
   "version": "3.10.11"
  }
 },
 "nbformat": 4,
 "nbformat_minor": 4
}
